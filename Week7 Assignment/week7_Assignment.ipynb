{
 "cells": [
  {
   "cell_type": "markdown",
   "id": "6ab9886c-7f3d-4991-a73c-6e738346a91e",
   "metadata": {},
   "source": [
    "## Exercise 1"
   ]
  },
  {
   "cell_type": "code",
   "execution_count": 1,
   "id": "633aedbc-4e64-430a-aefc-8d6fae03e4b0",
   "metadata": {},
   "outputs": [
    {
     "name": "stdout",
     "output_type": "stream",
     "text": [
      "Sentiment Polarity: 0.09869334480780263\n",
      "Sentiment Subjectivity: 0.3790877796901893\n"
     ]
    }
   ],
   "source": [
    "from textblob import TextBlob\n",
    "\n",
    "with open('burbank.txt', 'r') as file:\n",
    "    text_summary = file.read()\n",
    "\n",
    "blob = TextBlob(text_summary)\n",
    "sentiment = blob.sentiment\n",
    "\n",
    "print(\"Sentiment Polarity:\", sentiment.polarity)\n",
    "print(\"Sentiment Subjectivity:\", sentiment.subjectivity)\n"
   ]
  },
  {
   "cell_type": "markdown",
   "id": "a5f98e3c-95af-4697-88fd-62ab7bf75fc8",
   "metadata": {},
   "source": [
    "## Exercise 2"
   ]
  },
  {
   "cell_type": "code",
   "execution_count": 4,
   "id": "fd0bec51-452f-40ef-ba49-ce3cdc8502aa",
   "metadata": {},
   "outputs": [
    {
     "name": "stdout",
     "output_type": "stream",
     "text": [
      "sentiment representative polarity  0.09869334480780263\n",
      "sentiment representative subjectivity  0.3790877796901893\n"
     ]
    }
   ],
   "source": [
    "blob_representative = TextBlob(text_summary)\n",
    "sentiment_representative = blob_representative.sentiment\n",
    "\n",
    "print(\"sentiment representative polarity \",sentiment_representative.polarity)\n",
    "print(\"sentiment representative subjectivity \",sentiment_representative.subjectivity)"
   ]
  },
  {
   "cell_type": "markdown",
   "id": "e69527c1-977f-4072-9c1a-876248e7e657",
   "metadata": {},
   "source": [
    "## Exercise 3"
   ]
  },
  {
   "cell_type": "code",
   "execution_count": 19,
   "id": "428aa826-5638-4a44-bb36-36515bda2325",
   "metadata": {},
   "outputs": [
    {
     "name": "stdout",
     "output_type": "stream",
     "text": [
      "Top 10 Most Frequent Words:\n",
      "the: 100\n",
      "of: 50\n",
      "to: 39\n",
      "and: 36\n",
      "that: 20\n",
      "in: 19\n",
      "a: 16\n",
      "The: 14\n",
      "FAA: 13\n",
      "Burbank: 12\n",
      "Number of stopwords: 326\n",
      "Example stopwords: ['which', 'rather', '‘ll', 'nor', 'doing', 'go', 'out', 'together', 'were', \"'ve\"]\n"
     ]
    }
   ],
   "source": [
    "from textblob import TextBlob\n",
    "from textblob import Word\n",
    "import spacy\n",
    "from spacy.lang.en.stop_words import STOP_WORDS\n",
    "# Read text from file\n",
    "with open('burbank.txt', 'r') as file:\n",
    "    text = file.read()\n",
    "\n",
    "# Create a TextBlob object\n",
    "blob = TextBlob(text)\n",
    "\n",
    "# Tokenize the text into words\n",
    "words = blob.words\n",
    "\n",
    "# Create a frequency dictionary to store the count of each word\n",
    "word_freq = {}\n",
    "\n",
    "# Iterate over each word and count its frequency\n",
    "for word in words:\n",
    "    if word not in word_freq:\n",
    "        word_freq[word] = 1\n",
    "    else:\n",
    "        word_freq[word] += 1\n",
    "\n",
    "# Sort the words by frequency\n",
    "sorted_words = sorted(word_freq.items(), key=lambda x: x[1], reverse=True)\n",
    "\n",
    "# Print the top 10 most frequent words and their frequencies\n",
    "print(\"Top 10 Most Frequent Words:\")\n",
    "for word, freq in sorted_words[:10]:\n",
    "    print(f\"{word}: {freq}\")\n",
    "    "
   ]
  },
  {
   "cell_type": "markdown",
   "id": "aa9365b4-dc9a-40b3-a4c7-0739332a366c",
   "metadata": {},
   "source": [
    "## Exercise 4"
   ]
  },
  {
   "cell_type": "code",
   "execution_count": 28,
   "id": "3729a4c1-f70c-4220-81e2-a0490bbbdc75",
   "metadata": {},
   "outputs": [
    {
     "name": "stdout",
     "output_type": "stream",
     "text": [
      "                                              Review  Label Company\n",
      "0  So there is no way for me to plug it in here i...      0  Amazon\n",
      "1                        Good case, Excellent value.      1  Amazon\n",
      "2                             Great for the jawbone.      1  Amazon\n",
      "3  Tied to charger for conversations lasting more...      0  Amazon\n",
      "4                                  The mic is great.      1  Amazon\n",
      "<class 'pandas.core.frame.DataFrame'>\n",
      "RangeIndex: 2748 entries, 0 to 2747\n",
      "Data columns (total 3 columns):\n",
      " #   Column   Non-Null Count  Dtype \n",
      "---  ------   --------------  ----- \n",
      " 0   Review   2748 non-null   object\n",
      " 1   Label    2748 non-null   int64 \n",
      " 2   Company  2748 non-null   object\n",
      "dtypes: int64(1), object(2)\n",
      "memory usage: 64.5+ KB\n",
      "None\n",
      "Review     0\n",
      "Label      0\n",
      "Company    0\n",
      "dtype: int64\n"
     ]
    },
    {
     "name": "stderr",
     "output_type": "stream",
     "text": [
      "/Users/kiran_g/Library/Python/3.9/lib/python/site-packages/sklearn/feature_extraction/text.py:525: UserWarning: The parameter 'token_pattern' will not be used since 'tokenizer' is not None'\n",
      "  warnings.warn(\n",
      "/Users/kiran_g/Library/Python/3.9/lib/python/site-packages/sklearn/svm/_classes.py:32: FutureWarning: The default value of `dual` will change from `True` to `'auto'` in 1.5. Set the value of `dual` explicitly to suppress the warning.\n",
      "  warnings.warn(\n"
     ]
    },
    {
     "name": "stdout",
     "output_type": "stream",
     "text": [
      "Accuracy: 0.8054545454545454\n",
      "This movie was amazing! Prediction: 1\n"
     ]
    }
   ],
   "source": [
    "import pandas as pd\n",
    "import spacy\n",
    "from spacy.lang.en.stop_words import STOP_WORDS\n",
    "from sklearn.feature_extraction.text import CountVectorizer, TfidfVectorizer\n",
    "from sklearn.metrics import accuracy_score\n",
    "from sklearn.svm import LinearSVC\n",
    "from sklearn.model_selection import train_test_split\n",
    "from sklearn.base import TransformerMixin\n",
    "from sklearn.pipeline import Pipeline\n",
    "import string\n",
    "\n",
    "# Load datasets\n",
    "amazon_df = pd.read_csv('amazon_cells_labelled.txt', sep='\\t', header=None)\n",
    "imdb_df = pd.read_csv('imdb_labelled.txt', sep='\\t', header=None)\n",
    "yelp_df = pd.read_csv('yelp_labelled.txt', sep='\\t', header=None)\n",
    "\n",
    "# Combine datasets\n",
    "amazon_df.columns = ['Review', 'Label']\n",
    "imdb_df.columns = ['Review', 'Label']\n",
    "yelp_df.columns = ['Review', 'Label']\n",
    "\n",
    "amazon_df['Company'] = 'Amazon'\n",
    "imdb_df['Company'] = 'IMDb'\n",
    "yelp_df['Company'] = 'Yelp'\n",
    "\n",
    "comb_data = pd.concat([amazon_df, imdb_df, yelp_df], ignore_index=True)\n",
    "\n",
    "# Explore structure of comb_data\n",
    "print(comb_data.head())\n",
    "print(comb_data.info())\n",
    "\n",
    "# Save combined dataset\n",
    "comb_data.to_csv('Sentiment_Analysis_Dataset.csv', index=False)\n",
    "\n",
    "# Check for null values\n",
    "print(comb_data.isnull().sum())\n",
    "\n",
    "# Define stopwords\n",
    "stopwords = list(STOP_WORDS)\n",
    "\n",
    "# Define punctuations\n",
    "punctuations = string.punctuation\n",
    "\n",
    "# Load English language model for spaCy\n",
    "nlp = spacy.load('en_core_web_sm')\n",
    "\n",
    "# Tokenization function\n",
    "def tokenize(text):\n",
    "    doc = nlp(text)\n",
    "    tokens = [token.lemma_.lower().strip() for token in doc if token.lemma_ != \"-PRON-\"]\n",
    "    tokens = [token for token in tokens if token not in stopwords and token not in punctuations]\n",
    "    return tokens\n",
    "\n",
    "# Import necessary functions and classes\n",
    "from sklearn.feature_extraction.text import CountVectorizer, TfidfVectorizer\n",
    "from sklearn.metrics import accuracy_score\n",
    "from sklearn.base import TransformerMixin\n",
    "from sklearn.pipeline import Pipeline\n",
    "from sklearn.svm import LinearSVC\n",
    "\n",
    "# Custom transformer class\n",
    "class predictors(TransformerMixin):\n",
    "    def transform(self, X, **transform_params):\n",
    "        return [clean_text(text) for text in X]\n",
    "\n",
    "    def fit(self, X, y=None, **fit_params):\n",
    "        return self\n",
    "\n",
    "    def get_params(self, deep=True):\n",
    "        return {}\n",
    "\n",
    "# Basic function to clean text\n",
    "def clean_text(text):\n",
    "    return text.strip().lower()\n",
    "\n",
    "# Vectorize and use LinearSVC as a classifier\n",
    "vectorizer = CountVectorizer(tokenizer=tokenize, ngram_range=(1,1))\n",
    "classifier = LinearSVC()\n",
    "\n",
    "# Split dataset into train and test sets\n",
    "X_train, X_test, y_train, y_test = train_test_split(comb_data['Review'], comb_data['Label'], test_size=0.2, random_state=42)\n",
    "\n",
    "# Create pipeline\n",
    "pipe_countvect = Pipeline([('cleaner', predictors()),\n",
    "                           ('vectorizer', vectorizer),\n",
    "                           ('classifier', classifier)])\n",
    "\n",
    "# Fit the data\n",
    "pipe_countvect.fit(X_train, y_train)\n",
    "\n",
    "# Predict with the test dataset\n",
    "y_pred = pipe_countvect.predict(X_test)\n",
    "\n",
    "# Determine accuracy\n",
    "accuracy = accuracy_score(y_test, y_pred)\n",
    "print(\"Accuracy:\", accuracy)\n",
    "\n",
    "# Sample prediction\n",
    "sample_text = \"This movie was amazing!\"\n",
    "sample_pred = pipe_countvect.predict([sample_text])[0]\n",
    "print(sample_text, \"Prediction:\", sample_pred)\n"
   ]
  },
  {
   "cell_type": "code",
   "execution_count": null,
   "id": "a4512fb1-e2b7-4cc2-bd08-9ce68e091ea1",
   "metadata": {},
   "outputs": [],
   "source": []
  }
 ],
 "metadata": {
  "kernelspec": {
   "display_name": "Python 3 (ipykernel)",
   "language": "python",
   "name": "python3"
  },
  "language_info": {
   "codemirror_mode": {
    "name": "ipython",
    "version": 3
   },
   "file_extension": ".py",
   "mimetype": "text/x-python",
   "name": "python",
   "nbconvert_exporter": "python",
   "pygments_lexer": "ipython3",
   "version": "3.9.6"
  }
 },
 "nbformat": 4,
 "nbformat_minor": 5
}
