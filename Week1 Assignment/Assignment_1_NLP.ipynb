{
 "cells": [
  {
   "cell_type": "code",
   "execution_count": 24,
   "id": "f477f1e1",
   "metadata": {},
   "outputs": [
    {
     "name": "stdout",
     "output_type": "stream",
     "text": [
      "Qui savait que la traduction pouvait être amusante\n",
      "कौन जानता था कि अनुवाद मजेदार हो सकता है\n",
      "谁知道翻译可能很有趣\n"
     ]
    }
   ],
   "source": [
    "from textblob import TextBlob\n",
    "blob = TextBlob(\"Who knew translation could be fun\")\n",
    "translated_fr = blob.translate(from_lang='en',to='fr')\n",
    "translated_hi = blob.translate(from_lang='en',to='hi')\n",
    "translated_zh_CN = blob.translate(from_lang='en',to='zh-CN')\n",
    "print(translated_fr)\n",
    "print(translated_hi)\n",
    "print(translated_zh_CN)"
   ]
  },
  {
   "cell_type": "code",
   "execution_count": null,
   "id": "c82db61a",
   "metadata": {},
   "outputs": [],
   "source": []
  }
 ],
 "metadata": {
  "kernelspec": {
   "display_name": "Python 3 (ipykernel)",
   "language": "python",
   "name": "python3"
  },
  "language_info": {
   "codemirror_mode": {
    "name": "ipython",
    "version": 3
   },
   "file_extension": ".py",
   "mimetype": "text/x-python",
   "name": "python",
   "nbconvert_exporter": "python",
   "pygments_lexer": "ipython3",
   "version": "3.9.7"
  }
 },
 "nbformat": 4,
 "nbformat_minor": 5
}
